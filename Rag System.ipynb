{
 "cells": [
  {
   "cell_type": "code",
   "execution_count": 20,
   "metadata": {},
   "outputs": [],
   "source": [
    "import os\n",
    "os.environ[\"LANGCHAIN_TRACING_V2\"] =\"true\"\n"
   ]
  },
  {
   "cell_type": "code",
   "execution_count": 21,
   "metadata": {},
   "outputs": [],
   "source": [
    "import getpass\n",
    "os.environ[\"LANGCHAIN_API_KEY\"] = getpass.getpass()\n"
   ]
  },
  {
   "cell_type": "code",
   "execution_count": 22,
   "metadata": {},
   "outputs": [],
   "source": [
    "from langchain_community.llms import Ollama\n",
    "\n",
    "llm = Ollama(model=\"mistral\", temperature=0)"
   ]
  },
  {
   "cell_type": "code",
   "execution_count": null,
   "metadata": {},
   "outputs": [
    {
     "data": {
      "text/plain": [
       "\" The Efficient Markets Hypothesis (EMH) suggests that financial markets are informationally efficient, meaning that asset prices reflect all available information. There are three main forms of the EMH:\\n\\n1. Weak Form Efficiency: This form states that current asset prices already reflect all past price and volume data, i.e., it is impossible to consistently earn abnormal returns by using historical market data for stock selection or market timing. In other words, technical analysis based on past trends and patterns has no predictive power.\\n\\n2. Semi-Strong Form Efficiency: This form extends the weak form efficiency to include all publicly available information, such as financial statements, analyst reports, and company news. If a security's price reflects all public information, it is impossible to earn abnormal returns by using this information for stock selection or market timing.\\n\\n3. Strong Form Efficiency: This form suggests that asset prices reflect all publicly available information as well as any private (insider) information. In other words, it is impossible to earn abnormal returns by using any type of information, whether public or private. This implies that insider trading does not provide an informational advantage for profit-making purposes.\\n\\nThe EMH has important implications for investors and financial analysts, as it suggests that it may be difficult to consistently outperform the market through active management strategies based on fundamental analysis or market timing. Instead, passive investment strategies such as indexing may offer a more promising approach for achieving long-term investment goals. However, critics argue that real-world markets may not always be perfectly efficient due to various behavioral biases and market frictions.\""
      ]
     },
     "execution_count": 125,
     "metadata": {},
     "output_type": "execute_result"
    }
   ],
   "source": [
    "llm.invoke(\"what are the three types of efficient markets hypothesis\")"
   ]
  },
  {
   "cell_type": "code",
   "execution_count": 24,
   "metadata": {},
   "outputs": [],
   "source": [
    "\"\"\"\n",
    "from langchain_community.document_loaders import TextLoader\n",
    "\n",
    "loader = TextLoader(file_path=\"data/alice_in_wonderland.md\")\n",
    "\n",
    "docs = loader.load()\n",
    "\"\"\""
   ]
  },
  {
   "cell_type": "code",
   "execution_count": 55,
   "metadata": {},
   "outputs": [
    {
     "name": "stderr",
     "output_type": "stream",
     "text": [
      "Ignoring wrong pointing object 289 0 (offset 0)\n",
      "Ignoring wrong pointing object 736 0 (offset 0)\n",
      "Ignoring wrong pointing object 1797 0 (offset 0)\n",
      "Ignoring wrong pointing object 1930 0 (offset 0)\n",
      "Ignoring wrong pointing object 2204 0 (offset 0)\n",
      "Ignoring wrong pointing object 2665 0 (offset 0)\n",
      "Ignoring wrong pointing object 3132 0 (offset 0)\n",
      "Ignoring wrong pointing object 3241 0 (offset 0)\n",
      "Ignoring wrong pointing object 3526 0 (offset 0)\n",
      "Ignoring wrong pointing object 3542 0 (offset 0)\n",
      "Ignoring wrong pointing object 3608 0 (offset 0)\n",
      "Ignoring wrong pointing object 4034 0 (offset 0)\n",
      "Ignoring wrong pointing object 4076 0 (offset 0)\n",
      "Ignoring wrong pointing object 4555 0 (offset 0)\n",
      "Ignoring wrong pointing object 5126 0 (offset 0)\n",
      "Ignoring wrong pointing object 5363 0 (offset 0)\n",
      "Ignoring wrong pointing object 6277 0 (offset 0)\n",
      "Ignoring wrong pointing object 6291 0 (offset 0)\n",
      "Ignoring wrong pointing object 7018 0 (offset 0)\n",
      "Ignoring wrong pointing object 7602 0 (offset 0)\n",
      "Ignoring wrong pointing object 8002 0 (offset 0)\n",
      "Ignoring wrong pointing object 8405 0 (offset 0)\n",
      "Ignoring wrong pointing object 8712 0 (offset 0)\n"
     ]
    }
   ],
   "source": [
    "from langchain.document_loaders import PyPDFLoader\n",
    "\n",
    "loader = PyPDFLoader(\"/Users/osbert/Desktop/inv.pdf\")\n",
    "docs = loader.load()"
   ]
  },
  {
   "cell_type": "code",
   "execution_count": 63,
   "metadata": {},
   "outputs": [
    {
     "data": {
      "text/plain": [
       "0"
      ]
     },
     "execution_count": 63,
     "metadata": {},
     "output_type": "execute_result"
    }
   ],
   "source": [
    "len(docs[0].page_content)"
   ]
  },
  {
   "cell_type": "code",
   "execution_count": 109,
   "metadata": {},
   "outputs": [],
   "source": [
    "from langchain_text_splitters import RecursiveCharacterTextSplitter\n",
    "\n",
    "text_splitter = RecursiveCharacterTextSplitter(\n",
    "    chunk_size = 5000,\n",
    "    chunk_overlap = 500,\n",
    "    add_start_index = True, # add meta data attribute\n",
    ")"
   ]
  },
  {
   "cell_type": "code",
   "execution_count": 110,
   "metadata": {},
   "outputs": [],
   "source": [
    "# apply class to text\n",
    "\n",
    "all_splits = text_splitter.split_documents(docs)"
   ]
  },
  {
   "cell_type": "code",
   "execution_count": 111,
   "metadata": {},
   "outputs": [
    {
     "data": {
      "text/plain": [
       "1070"
      ]
     },
     "execution_count": 111,
     "metadata": {},
     "output_type": "execute_result"
    }
   ],
   "source": [
    "len(all_splits)"
   ]
  },
  {
   "cell_type": "code",
   "execution_count": 112,
   "metadata": {},
   "outputs": [
    {
     "data": {
      "text/plain": [
       "3609"
      ]
     },
     "execution_count": 112,
     "metadata": {},
     "output_type": "execute_result"
    }
   ],
   "source": [
    "len(all_splits[1].page_content)"
   ]
  },
  {
   "cell_type": "code",
   "execution_count": 113,
   "metadata": {},
   "outputs": [],
   "source": [
    "#embed each content\n",
    "\n",
    "from langchain_ollama.embeddings import OllamaEmbeddings\n",
    "\n",
    "embedding = OllamaEmbeddings(\n",
    "    model=\"nomic-embed-text\"\n",
    "    )"
   ]
  },
  {
   "cell_type": "code",
   "execution_count": 115,
   "metadata": {},
   "outputs": [],
   "source": [
    "from langchain_community.vectorstores import Chroma\n",
    "\n",
    "# to index\n",
    "vectore_store = Chroma.from_documents(\n",
    "    documents = all_splits,\n",
    "    embedding = embedding,\n",
    ")"
   ]
  },
  {
   "cell_type": "code",
   "execution_count": 116,
   "metadata": {},
   "outputs": [],
   "source": [
    "retriever = vectore_store.as_retriever(\n",
    "    search_type = \"similarity\",\n",
    "    search_kwargs = {\"k\":6}\n",
    ")"
   ]
  },
  {
   "cell_type": "code",
   "execution_count": 117,
   "metadata": {},
   "outputs": [
    {
     "data": {
      "text/plain": [
       "[Document(metadata={'page': 12, 'source': '/Users/osbert/Desktop/inv.pdf', 'start_index': 0}, page_content='/one.tnum/two.tnum PART I  Introduction\\nbod12665_ch01_001-030.indd 12 06/06/22  07:58 AM\\nif returns were independent of risk, there would be a rush to sell high-risk assets and \\ntheir prices would fall. The assets would get cheaper (improving their expected future \\nrates of return) until they eventually were attractive enough to be included again in \\ninvestor portfolios. We conclude that there should be a risk–return trade-off  in the \\nsecurities markets, with higher-risk assets priced to offer higher expected returns than \\nlower-risk assets.\\nOf course, this discussion leaves several important questions unanswered. How should \\none measure the risk of an asset? What should be the quantitative trade-off between risk \\n(properly measured) and expected return? One would think that risk would have some -\\nthing to do with the volatility of an asset’s returns, but this guess turns out to be only \\npartly correct. When we mix assets into diversified portfolios, we need to consider the \\ninterplay among assets and the effect of diversification on the risk of the entire portfolio. \\n Diversification means that many assets are held in the portfolio so that the exposure to \\nany particular asset is limited. The effect of diversification on portfolio risk, the implica -\\ntions for the proper measurement of risk, and the risk–return relationship are the topics of \\nPart Two. These topics are the subject of what has come to be known as modern portfolio \\ntheory. The development of this theory brought two of its pioneers, Harry Markowitz and \\nWilliam Sharpe, Nobel Prizes.\\nEfficient Markets\\nAnother implication of the no-free-lunch proposition is that we should rarely expect \\nto find bargains in the security markets. We will spend all of Chapter 11 examining \\nthe theory and evidence concerning the hypothesis that financial markets process all  \\navailable information about securities quickly and efficiently, that is, that the security \\nprice usually reflects all the information available to investors concerning its value. \\nAccording to this hypothesis, as new information about a security becomes available, its \\nprice quickly adjusts so that at any time, the security price equals the market consensus \\nestimate of the value of the security. If this were so, there would be neither underpriced \\nnor overpriced securities.\\nOne interesting implication of this “efficient market hypothesis” concerns the choice \\nbetween active and passive investment-management strategies. Passive management  \\ncalls for holding highly diversified portfolios without spending effort or other resources \\nattempting to improve investment performance through security analysis. Active \\n management is the attempt to improve performance either by identifying mispriced \\nsecurities or by timing the performance of broad asset classes—for example, increas -\\ning one’s commitment to stocks when one is bullish on the stock market. If markets are \\nefficient and prices reflect all relevant information, perhaps it is better to follow passive \\nstrategies instead of spending resources in a futile attempt to outguess your competitors \\nin the financial markets.\\nIf the efficient market hypothesis were taken to the extreme, there would be no point in \\nactive security analysis; only fools would commit resources to actively analyze securities. \\nWithout ongoing security analysis, however, prices eventually would depart from “correct” \\nvalues, creating new incentives for experts to move in. Therefore, even in  environments \\nas competitive as the financial markets, we may observe only near- efficiency, and profit \\nopportunities may exist for especially diligent and creative investors. In Chapter/uni00A0 12, we \\nexamine such challenges to the efficient market hypothesis, and this motivates our discus-\\nsion of active portfolio management in Part Seven. Nevertheless, our discussions of secu -\\nrity analysis and portfolio construction generally must account for the likelihood of nearly \\nefficient markets.\\nFinal PDF to printer'),\n",
       " Document(metadata={'page': 341, 'source': '/Users/osbert/Desktop/inv.pdf', 'start_index': 0}, page_content='/three.tnum/four.tnum/one.tnum\\nbod12665_ch11_341-380.indd 341 06/10/22  01:31 PM\\nONE OF THE\\xa0 early applications of computers \\nin economics in the /one.tnum/nine.tnum/five.tnum/zero.tnums was to analyze eco-\\nnomic time series. Business cycle theorists felt \\nthat tracing the evolution of several economic \\nvariables over time would clarify and predict the \\nprogress of the economy through boom-and-\\nbust periods. A natural candidate for analysis \\nwas the behavior of stock market prices over \\ntime. Assuming that stock prices reflect the pros -\\npects of the firm, recurrent patterns of peaks and \\ntroughs in economic performance ought to show \\nup in those prices.\\nMaurice Kendall examined this proposi -\\ntion in /one.tnum/nine.tnum/five.tnum/three.tnum./one.tnum He found to his great surprise \\nthat he\\xa0 could identify no predictable patterns \\nin stock prices. Prices seemed to evolve ran -\\ndomly, apparently as likely to go up as go \\ndown on any\\xa0  particular day, regardless of past \\nperformance.\\nAt first blush, Kendall’s results were disturb -\\ning to some financial economists. They seemed \\nto imply that the stock market is dominated by \\nerratic market psychology, or “animal spirits”—\\nthat it follows no logical rules. In short, the results \\nappeared to confirm the irrationality of the market. \\nOn further reflection, however, economists came \\nto reverse their interpretation of Kendall’s study.\\nIt soon became apparent that random price \\nmovements indicated a well-functioning or effi -\\ncient market, not an irrational one. In this chapter \\nwe explore the reasoning behind what may seem \\na surprising conclusion. We show how competi -\\ntion among analysts leads naturally to market \\nefficiency, and we examine the implications of the \\nefficient market hypothesis for investment policy. \\nWe also consider empirical evidence that supports \\nand contradicts the notion of market efficiency.\\n1Maurice Kendall, “The Analysis of Economic Time Series, Part I: Prices,” Journal of the Royal Statistical \\nSociety 96 (1953).\\nThe Efficient \\nMarket Hypothesis\\nCHAPTER \\n11\\nPART III\\nFinal PDF to printer'),\n",
       " Document(metadata={'page': 355, 'source': '/Users/osbert/Desktop/inv.pdf', 'start_index': 1}, page_content='CHAPTER /one.tnum/one.tnum The Efficient Market Hypothesis /three.tnum/five.tnum/five.tnum\\nbod12665_ch11_341-380.indd 355 06/10/22  01:31 PM\\nearnings by .001 × $5 billion = $5 million annually. This manager clearly would be \\nworth the salary received! Yet can we, as observers, statistically measure that manager’s \\ncontribution? Probably not: A .1% annual contribution would be swamped by the vola -\\ntility of the market. Remember, since 1926 the annual standard deviation of the highly \\ndiversified S&P 500 index has been almost 20%. Against these fluctuations, a small \\nincrease in performance would be hard to detect.\\nAll might agree that stock prices are very close to fair values and that only managers of \\nlarge portfolios can earn enough trading profits to make the exploitation of minor mispric-\\ning worth the effort. According to this view, the actions of intelligent investment managers \\nare the driving force behind the constant evolution of market prices to fair levels. Rather \\nthan ask the qualitative question, Are markets efficient?, we should instead ask a more \\nquantitative question: How efficient are markets?\\nThe Selection Bias Issue  Suppose you discover an investment scheme that could \\nreally make money. You have two choices: either publish your technique in The Wall \\nStreet Journal to win fleeting fame or keep your technique secret and use it to earn mil -\\nlions of dollars. Most investors would choose the latter option, which presents us with \\na problem. Only investors who find that an investment scheme cannot generate abnor -\\nmal returns will be willing to report their findings to the whole world. Hence, skeptics \\nof efficient markets always can disregard evidence that various techniques do not pro -\\nvide investment rewards and argue that the techniques that do work simply are not being \\nreported. This is a problem in selection bias;  the outcomes we are able to observe have \\nbeen preselected in favor of failed attempts.\\nThe Lucky Event Issue  In virtually any month it seems we hear about some investor \\nor investment company with fantastic investment performance. Surely these examples \\ndisprove the efficient market hypothesis.\\nYet this conclusion is far from obvious. As an analogy to the investment game, con -\\nsider a contest to flip the most number of heads out of 50 trials using a fair coin. The \\nexpected outcome for any person is, of course, 50% heads and 50% tails. If 10,000 people,  \\nhowever, compete in this contest, it would not be surprising if at least one or two of \\nthem flipped more than 75% heads. In fact, elementary statistics tells us that the \\nexpected number of contestants flipping 75% or more heads would be two. It would \\nbe silly, though, to crown these people the “head-flipping champions of the world.”  \\nObviously, they are simply the ones who happened to get lucky on the day of the event. \\n(See the nearby box.)\\nThe analogy to efficient markets is clear. If securities are fairly priced given all avail -\\nable information, any bet on a stock is simply a coin toss with an equal likelihood of \\nwinning or losing. However, if many investors using a variety of schemes make fair bets, \\nstatistically speaking, some of them will be lucky and win a great majority of the bets. For \\nevery big winner, there may be many big losers, but we never hear of them. The winners, \\nthough, turn up in The Wall Street Journal as the latest stock market gurus; then they can \\nmake a fortune publishing market newsletters.\\nOur point is that after the fact there will have been at least one successful investment \\nscheme. A doubter will call the results luck; the successful investor will call it skill. The \\nproper test would be to see whether the successful investors can repeat their performance \\nin another period, yet this approach is rarely taken.\\nWith these caveats in mind, we turn now to some of the empirical tests of the efficient \\nmarket hypothesis.\\nFinal PDF to printer'),\n",
       " Document(metadata={'page': 354, 'source': '/Users/osbert/Desktop/inv.pdf', 'start_index': 0}, page_content='/three.tnum/five.tnum/four.tnum PART III  Equilibrium in Capital Markets\\nbod12665_ch11_341-380.indd 354 06/10/22  01:31 PM\\ndate indicates that a good deal of these announcements are indeed news to the market and \\nthat stock prices do not already reflect complete knowledge about the takeovers. It would \\nappear, therefore, that SEC enforcement does have a substantial effect on restricting insider \\ntrading, even if some still persists.\\nEvent study methodology has become a widely accepted tool to measure the economic \\nimpact of a wide range of events. For example, the SEC regularly uses event studies to \\nmeasure illicit gains captured by traders who may have violated insider trading or other \\nsecurities laws.12 Event studies are also used in fraud cases, where the courts must assess \\ndamages caused by a fraudulent activity.\\n12For a review of SEC applications of this technique, see Mark Mitchell and Jeffry Netter, “The Role of Financial \\nEconomics in Securities Fraud Cases: Applications at the Securities and Exchange Commission,” The Business \\nLawyer 49 (February 1994), pp. 545–90.\\nSuppose the stock of a company with market value of $/one.tnum/zero.tnum/zero.tnum million falls by /four.tnum% on the day \\nthat news of an accounting scandal surfaces. The rest of the market, however, generally \\ndoes well that day. The market indexes are up sharply and, on the basis of the usual relation-\\nship between the stock and the market, one would have expected a /two.tnum% gain on the stock. \\nWe would conclude that the impact of the scandal was a /six.tnum% drop in value, the difference \\nbetween the /two.tnum% gain that we would have expected and the /four.tnum% drop actually observed. \\nOne\\xa0might then infer that the damages sustained from the scandal were $/six.tnum million because \\nthe value of the firm (after adjusting for general market movements) fell by /six.tnum% of $/one.tnum/zero.tnum/zero.tnum million \\nwhen investors became aware of the news and reassessed the value of the stock.\\nExample 11.5   Using Abnormal Returns to Infer Damages\\nSuppose that we see negative abnormal returns (declining CARs) after an announce -\\nment date. Is this a violation of efficient markets?\\nConcept Check /one.tnum/one.tnum./four.tnum\\n 11.4 Are Markets Efficient?\\nThe Issues\\nNot surprisingly, the efficient market hypothesis does not exactly elicit enthusiasm  \\nin the community of professional portfolio managers. It implies that a great deal of the \\nactivity of these managers—the search for undervalued securities—is at best wasted \\neffort, and quite probably harmful to clients because it costs money and leads to imper -\\nfectly diversified portfolios. Consequently, the EMH has never been widely accepted \\non Wall Street, and debate continues today on the degree to which security analysis can \\nimprove investment performance. However, the following issues imply that the debate \\nprobably never will be settled: the magnitude issue,  t h e  selection bias issue,  and the \\nlucky event issue.\\nThe Magnitude Issue  We noted that an investment manager overseeing a $5 billion \\nportfolio who can improve performance by only .1% per year will increase investment \\nFinal PDF to printer'),\n",
       " Document(metadata={'page': 346, 'source': '/Users/osbert/Desktop/inv.pdf', 'start_index': 0}, page_content='/three.tnum/four.tnum/six.tnum PART III  Equilibrium in Capital Markets\\nbod12665_ch11_341-380.indd 346 06/10/22  01:31 PM\\ndata are publicly available and virtually costless to obtain. The weak-form hypothesis holds \\nthat if such data ever conveyed reliable signals about future performance, all investors already \\nwould have learned to exploit them. Ultimately, the signals lose their value as they become \\nwidely known because a buy signal, for instance, would result in an immediate price increase.\\nThe semistrong-form hypothesis states that all publicly available information regard -\\ning the prospects of a firm must be reflected already in the stock price. Such information \\nincludes, in addition to past trading data, fundamental data on the firm’s product line, \\nquality of management, balance sheet composition, patents held, earnings forecasts, and \\naccounting practices. Again, if investors have access to such information from publicly \\navailable sources, one would expect it to be reflected in stock prices.\\nFinally, the strong-form version of the efficient market hypothesis states that stock \\nprices reflect all relevant information, even including information available only to com -\\npany insiders. This version of the hypothesis is quite extreme. Few would argue with the \\nproposition that corporate officers have access to pertinent information long enough before \\npublic release to enable them to profit from trading on it. Indeed, much of the activity of \\nthe Securities and Exchange Commission is directed toward preventing insiders from prof-\\niting by exploiting their privileged position. Rule 10b-5 of the Security Exchange Act of \\n1934 sets limits on trading by corporate officers, directors, and substantial owners, requir-\\ning them to report trades to the SEC. These insiders, their relatives, and any associates who \\ntrade on information supplied by insiders are considered in violation of the law.\\nDefining insider trading is not always easy, however. After all, stock analysts are in the \\nbusiness of uncovering information not already widely known to market participants. As \\nwe saw in Chapter 3 as well as in the nearby box, the distinction between private and inside \\ninformation is sometimes murky.\\nNotice one thing that all versions of the EMH have in common: They all assert that \\nprices should reflect available information. We do not expect traders to be superhuman or \\nmarket prices to always be right. We will always wish for more information about a compa-\\nny’s prospects than will be available. Sometimes market prices will turn out in retrospect to \\nhave been outrageously high, at other times absurdly low. The EMH asserts only that at the \\ngiven time, using current information, we cannot be sure if today’s prices will ultimately \\nprove themselves to have been too high or too low. If markets are rational, however, we can \\nexpect them to be correct on average.\\nTechnical Analysis\\nTechnical analysis is essentially the search for recurrent and predictable patterns in stock \\nprices. Although technicians recognize the value of information regarding future economic \\nprospects of the firm, they believe that such information is not necessary for a successful \\n 11.2 Implications of the EMH\\n a. Suppose you observed that high-level managers make superior returns on \\n investments in their company’s stock. Would this be a violation of weak-form \\n market\\xa0 efficiency? Would it be a violation of strong-form market efficiency?\\n b. If the weak-form version of the efficient market hypothesis is valid, must the \\n strong-form version also hold? Conversely, does strong-form efficiency imply \\n weak-form efficiency?\\nConcept Check /one.tnum/one.tnum./one.tnum\\nFinal PDF to printer'),\n",
       " Document(metadata={'page': 375, 'source': '/Users/osbert/Desktop/inv.pdf', 'start_index': 1}, page_content='CHAPTER /one.tnum/one.tnum The Efficient Market Hypothesis /three.tnum/seven.tnum/five.tnum\\nbod12665_ch11_341-380.indd 375 06/10/22  01:31 PM\\n 1. If markets are efficient, what should be the correlation coefficient between stock returns for two \\nnonoverlapping time periods?\\n 2. A successful firm like Microsoft has consistently generated large profits for years. Is this a \\n violation of the EMH?\\n 3. “If all securities are fairly priced, all must offer equal expected rates of return.” Comment.\\n 4. Steady Growth Industries has never missed a dividend payment in its 94-year history. Does this \\nmake it more attractive to you as a possible purchase for your stock portfolio?\\n 5. At a cocktail party, your co-worker tells you that he has beaten the market for each of the last \\nthree years. Suppose you believe him. Does this shake your belief in efficient markets?\\n 6. “Constantly fluctuating stock prices suggest that the market does not know how to price stocks.” \\nComment.\\n 7. Why are the following “effects” considered efficient market anomalies? Are there rational \\nexplanations for any of these effects?\\n a. P/E effect.\\n b. Book-to-market effect.\\n c. Momentum effect.\\n d. Small-firm effect.\\n 8. If prices are as likely to increase as decrease, why do investors earn positive returns from the \\nmarket on average?\\n 9. Which of the following (hypothetical) observations would most contradict the proposition that \\nthe stock market is weakly efficient? Explain.\\n a. Over 25% of mutual funds outperform the market on average.\\n b. Insiders earn abnormal trading profits.\\n c. Every January, the stock market earns abnormal returns.\\n 10. Which of the following sources of market inefficiency would be most easily exploited?\\n a. A stock price drops suddenly due to a large sale by an institution.\\n b. A stock is overpriced because traders are restricted from short sales.\\n c. Stocks are overvalued because investors are exuberant over increased productivity in the \\neconomy.\\n 11. Suppose that, after conducting an analysis of past stock prices, you come up with the following \\nobservations. Which would appear to contradict the weak form of the efficient market hypoth -\\nesis? Explain.\\n a. The average rate of return is significantly greater than zero.\\n b. The correlation between the return during a given week and the return during the following \\nweek is zero.\\n c. One could have made superior returns by buying stock after a 10% rise in price and selling \\nafter a 10% fall.\\n d. One could have made higher-than-average capital gains by holding stocks with low  dividend \\nyields.\\n 12. Which of the following statements are true if the efficient market hypothesis holds?\\n a. It implies that future events can be forecast with perfect accuracy.\\n b. It implies that prices reflect all available information.\\n c. It implies that security prices change for no discernible reason.\\n d. It implies that prices do not fluctuate.\\n 13. Respond to each of the following comments.\\n a. If stock prices follow a random walk, then capital markets are little different from a casino.\\n b. A good part of a company’s future prospects is predictable. Given this fact, stock prices can’t \\npossibly follow a random walk.\\n c. If markets are efficient, you might as well select your portfolio by throwing darts at the stock \\nlistings in The Wall Street Journal.\\nPROBLEM SETS\\nFinal PDF to printer')]"
      ]
     },
     "execution_count": 117,
     "metadata": {},
     "output_type": "execute_result"
    }
   ],
   "source": [
    "retriever.get_relevant_documents(\n",
    "    \"what is efficient markets hypothesis\"\n",
    ")"
   ]
  },
  {
   "cell_type": "code",
   "execution_count": 118,
   "metadata": {},
   "outputs": [],
   "source": [
    "# Generate Output into a chain\n",
    "# retrieve document\n",
    "# pass through prompt\n",
    "# parse the output\n",
    "\n",
    "from langchain import hub\n",
    "\n",
    "prompt = hub.pull(\"rlm/rag-prompt\")"
   ]
  },
  {
   "cell_type": "code",
   "execution_count": 119,
   "metadata": {},
   "outputs": [],
   "source": [
    "def format_docs(docs):\n",
    "    return\"\\n\\n\". join(doc.page_content for doc in docs)"
   ]
  },
  {
   "cell_type": "code",
   "execution_count": 120,
   "metadata": {},
   "outputs": [],
   "source": [
    "from langchain_core.runnables import RunnablePassthrough\n",
    "from langchain_core.output_parsers import StrOutputParser\n",
    "\n",
    "# To generate an output based on our input we created a chain\n",
    "# paste chain to input to local model to Stroutput parser\n",
    "rag_chain = (\n",
    "    {\"context\": retriever | format_docs, \"question\": RunnablePassthrough() }\n",
    "    | prompt\n",
    "    | llm\n",
    "    | StrOutputParser()\n",
    ")"
   ]
  },
  {
   "cell_type": "code",
   "execution_count": null,
   "metadata": {},
   "outputs": [
    {
     "data": {
      "text/plain": [
       "' The text provides an overview of various investment vehicles, including mutual funds, commingled funds, real estate investment trusts (REITs), hedge funds, and money market funds.\\n\\n1. Mutual Funds: These are investment companies that pool money from many investors to purchase a diversified portfolio of stocks, bonds, or other securities. They offer shares to the public and manage these shares according to a specific investment strategy.\\n\\n2. Commingled Funds: Similar to open-end mutual funds, commingled funds are partnerships of investors that pool funds. The management firm manages the funds for a fee. Typical partners in a commingled fund might be trust or retirement accounts with portfolios much larger than those of most individual investors, but still too small to warrant managing on a separate basis.\\n\\n3. Real Estate Investment Trusts (REITs): REITs invest in real estate or loans secured by real estate. They raise capital by borrowing from banks and issuing bonds or mortgages. Most of them are highly leveraged, with a typical debt ratio of 70%. There are two principal kinds of REITs: equity trusts that invest in real estate directly, and mortgage trusts that invest primarily in mortgage and construction loans.\\n\\n4. Hedge Funds: Like mutual funds, hedge funds are vehicles that allow private investors to pool assets to be invested by a fund manager. Unlike mutual funds, however, hedge funds are commonly structured as private partnerships and thus subject to only minimal SEC regulation. They typically are open only to wealthy or institutional investors. Many require investors to agree to initial “lock-ups,” that is, periods as long as several years in which investments cannot be withdrawn.\\n\\n5. Money Market Funds: These are a type of mutual fund that invests in short-term debt securities such as U.S. Treasury bills and commercial paper. They aim to provide a high liquidity profile and stable value, typically maintaining a $1 net asset value per share. However, recent proposals by the SEC aim to align share prices to portfolio value to minimize incentives for investors to cash out in front of other shareholders.'"
      ]
     },
     "execution_count": 128,
     "metadata": {},
     "output_type": "execute_result"
    }
   ],
   "source": [
    "rag_chain.invoke (\"How might the incentive fee of a hedge fund affect the manager proclivity to take on high-risk assets in the portfolio\")"
   ]
  }
 ],
 "metadata": {
  "kernelspec": {
   "display_name": "Python 3",
   "language": "python",
   "name": "python3"
  },
  "language_info": {
   "codemirror_mode": {
    "name": "ipython",
    "version": 3
   },
   "file_extension": ".py",
   "mimetype": "text/x-python",
   "name": "python",
   "nbconvert_exporter": "python",
   "pygments_lexer": "ipython3",
   "version": "3.12.4"
  }
 },
 "nbformat": 4,
 "nbformat_minor": 2
}
